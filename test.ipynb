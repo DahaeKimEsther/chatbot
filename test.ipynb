{
 "cells": [
  {
   "cell_type": "markdown",
   "metadata": {},
   "source": [
    "#### 크롤링"
   ]
  },
  {
   "cell_type": "code",
   "execution_count": null,
   "metadata": {},
   "outputs": [],
   "source": [
    "from crawling import YouthCenter\n",
    "yc = YouthCenter()\n",
    "\n",
    "search_result_url = \"https://www.youthcenter.go.kr/youngPlcyUnif/youngPlcyUnifList.do?pageIndex=1&frameYn=&bizId=&dtlOpenYn=&plcyTpOpenTy=&srchWord=&srchRegion=003002003&srchAge=&trgtJynEmp=&trgtJynEmp=&srchSortOrder=1&pageUnit=12\"\n",
    "\n",
    "whole_document = yc.get_whole_document(search_result_url=search_result_url)\n",
    "whole_document\n",
    "\n",
    "# selenium 공식문서  \n",
    "# https://www.selenium.dev/documentation/webdriver/getting_started/first_script/  \n",
    "# https://www.selenium.dev/documentation/webdriver/elements/finders/  \n",
    "# https://www.selenium.dev/documentation/webdriver/elements/locators/"
   ]
  },
  {
   "cell_type": "code",
   "execution_count": null,
   "metadata": {},
   "outputs": [],
   "source": []
  }
 ],
 "metadata": {
  "kernelspec": {
   "display_name": "gpt",
   "language": "python",
   "name": "python3"
  },
  "language_info": {
   "codemirror_mode": {
    "name": "ipython",
    "version": 3
   },
   "file_extension": ".py",
   "mimetype": "text/x-python",
   "name": "python",
   "nbconvert_exporter": "python",
   "pygments_lexer": "ipython3",
   "version": "3.10.3"
  }
 },
 "nbformat": 4,
 "nbformat_minor": 2
}
